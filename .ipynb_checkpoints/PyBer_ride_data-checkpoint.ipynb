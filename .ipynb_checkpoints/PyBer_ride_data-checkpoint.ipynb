{
 "cells": [
  {
   "cell_type": "code",
   "execution_count": null,
   "metadata": {},
   "outputs": [],
   "source": [
    "%matplotlib inline\n",
    "# Dependencies\n",
    "import matplotlib.pyplot as plt\n",
    "import numpy as np\n",
    "import pandas as pd\n",
    "# Load in csv\n",
    "pyber_ride_df = pd.read_csv(\"Resources/PyBer_ride_data.csv\")\n",
    "pyber_ride_df"
   ]
  },
  {
   "cell_type": "code",
   "execution_count": null,
   "metadata": {},
   "outputs": [],
   "source": [
    "pyber_ride_df.info()"
   ]
  },
  {
   "cell_type": "code",
   "execution_count": null,
   "metadata": {},
   "outputs": [],
   "source": [
    "# Set x-axis and tick locations.\n",
    "x_axis= np.arange(len(pyber_ride_df))\n",
    "tick_locations=[value for value in x_axis]\n",
    "\n",
    "# Plot the data.\n",
    "pyber_ride_df.plot(x=\"Month\", y=\"Avg. Fare ($USD)\")\n",
    "plt.xticks(tick_locations, pyber_ride_df[\"Month\"])\n",
    "plt.show()"
   ]
  },
  {
   "cell_type": "code",
   "execution_count": null,
   "metadata": {
    "scrolled": true
   },
   "outputs": [],
   "source": [
    "# bar chart of the same data:\n",
    "pyber_ride_df.plot.bar(x=\"Month\", y=\"Avg. Fare ($USD)\")\n",
    "plt.show()"
   ]
  },
  {
   "cell_type": "code",
   "execution_count": 70,
   "metadata": {},
   "outputs": [],
   "source": [
    "gp3 = pyber_ride_df.groupby([\"Month\"])\n",
    "means = gp3.mean()\n",
    "stdev= gp3.std()"
   ]
  },
  {
   "cell_type": "code",
   "execution_count": 98,
   "metadata": {},
   "outputs": [
    {
     "data": {
      "text/plain": [
       "([<matplotlib.axis.YTick at 0x15a4485a278>,\n",
       "  <matplotlib.axis.YTick at 0x15a44853048>,\n",
       "  <matplotlib.axis.YTick at 0x15a44844588>,\n",
       "  <matplotlib.axis.YTick at 0x15a448ba3c8>,\n",
       "  <matplotlib.axis.YTick at 0x15a448b32e8>,\n",
       "  <matplotlib.axis.YTick at 0x15a448c0390>,\n",
       "  <matplotlib.axis.YTick at 0x15a448c0ac8>,\n",
       "  <matplotlib.axis.YTick at 0x15a448c50b8>,\n",
       "  <matplotlib.axis.YTick at 0x15a448c55f8>,\n",
       "  <matplotlib.axis.YTick at 0x15a448c5b70>,\n",
       "  <matplotlib.axis.YTick at 0x15a448ce160>],\n",
       " <a list of 11 Text yticklabel objects>)"
      ]
     },
     "execution_count": 98,
     "metadata": {},
     "output_type": "execute_result"
    },
    {
     "data": {
      "image/png": "[encoded data removed]",
      "text/plain": [
       "<Figure size 432x288 with 1 Axes>"
      ]
     },
     "metadata": {
      "needs_background": "light"
     },
     "output_type": "display_data"
    }
   ],
   "source": [
    "fig, ax = plt.subplots()\n",
    "\n",
    "# The other approach is to add the kind parameter to the plot() function. \n",
    "\n",
    "pyber_ride_df.plot(x=\"Month\",\n",
    "               y=\"Avg. Fare ($USD)\",\n",
    "               kind='bar',\n",
    "               capsize=3,\n",
    "               color=\"Skyblue\",\n",
    "               yerr=10,\n",
    "               ax=ax\n",
    ")\n",
    "\n",
    "\n",
    "#plt.errorbar(x_axis,y_axis, yerr=stdev)\n",
    "plt.yticks(np.arange(0, 51, step=5.0))\n",
    "\n",
    "#plt.show()"
   ]
  },
  {
   "cell_type": "code",
   "execution_count": 78,
   "metadata": {},
   "outputs": [
    {
     "data": {
      "text/plain": [
       "<matplotlib.axes._subplots.AxesSubplot at 0x15a44170f28>"
      ]
     },
     "execution_count": 78,
     "metadata": {},
     "output_type": "execute_result"
    },
    {
     "data": {
      "image/png": "[encoded data removed]",
      "text/plain": [
       "<Figure size 432x288 with 1 Axes>"
      ]
     },
     "metadata": {
      "needs_background": "light"
     },
     "output_type": "display_data"
    }
   ],
   "source": [
    "fig, ax = plt.subplots()\n",
    "means.plot.bar(yerr=stdev,\n",
    "               ax=ax,\n",
    "               capsize=4\n",
    ")\n",
    "#plt.show()"
   ]
  },
  {
   "cell_type": "code",
   "execution_count": null,
   "metadata": {},
   "outputs": [],
   "source": []
  },
  {
   "cell_type": "code",
   "execution_count": null,
   "metadata": {},
   "outputs": [],
   "source": []
  }
 ],
 "metadata": {
  "kernelspec": {
   "display_name": "PythonData",
   "language": "python",
   "name": "pythondata"
  },
  "language_info": {
   "codemirror_mode": {
    "name": "ipython",
    "version": 3
   },
   "file_extension": ".py",
   "mimetype": "text/x-python",
   "name": "python",
   "nbconvert_exporter": "python",
   "pygments_lexer": "ipython3",
   "version": "3.6.9"
  }
 },
 "nbformat": 4,
 "nbformat_minor": 2
}
